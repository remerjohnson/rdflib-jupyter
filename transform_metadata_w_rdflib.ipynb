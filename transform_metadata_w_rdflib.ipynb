{
 "cells": [
  {
   "cell_type": "markdown",
   "metadata": {},
   "source": [
    "# Transforming metadata with RDFLib \n",
    "\n",
    "I've been asked to think about how to get our current Research Data Curation projects that exist in our digital collections into various other repositories and aggregators. Some of these are relatively easy to accomplish via \"triggers\", while others have a richer schema that differs significantly with our ontology.  \n",
    "\n",
    "This notebook will experiment with ways to utilize the [Python library RDFLib](http://rdflib.readthedocs.io/en/stable/gettingstarted.html) (and a [json-ld extension](https://github.com/RDFLib/rdflib-jsonld) for it) to transform our data into the different target forms. The most common transform would likely be to serialize our data as JSON and/or JSON-LD, then from there some simple transformations of the elements. The first example will be to align with the forthcoming BIOCaddie schema.  \n",
    "\n",
    "In our actual production environment, since we are a Hydra/Ruby shop, this will likely take place more with the RDF.rb gem, but since I am stronger with Python, it made more sense to play around using that. \n",
    "\n",
    "Let's first load up the rdflib libraries we'll need:"
   ]
  },
  {
   "cell_type": "code",
   "execution_count": 69,
   "metadata": {
    "collapsed": false
   },
   "outputs": [],
   "source": [
    "from rdflib import Graph, plugin\n",
    "from rdflib.serializer import Serializer\n",
    "import json"
   ]
  },
  {
   "cell_type": "markdown",
   "metadata": {},
   "source": [
    "## Import the data\n",
    "For the source data, I am working with data from our staging server, which is locked behind a login. So, the normal way of rdflib parsing a URL will throw 404/file not found errors. Luckily we can save the data from the DAMS as a Turtle (.ttl) file. Then we tell rdflib to parse this graph data as Turtle:"
   ]
  },
  {
   "cell_type": "code",
   "execution_count": 70,
   "metadata": {
    "collapsed": false
   },
   "outputs": [],
   "source": [
    "g = Graph().parse(\"datamares.ttl\", format=\"turtle\")"
   ]
  },
  {
   "cell_type": "markdown",
   "metadata": {},
   "source": [
    "## Output (or serialize) the data\n",
    "\n",
    "RDF data can typically be output, or serialized, in many different formats: RDF/XML, N-Triples, and JSON-LD, to name a few. The list of serializations will depend on the parser of the system you're working with, but rdflib will allow us to serialize the data ourselves. So let's serialize the existing Turtle data into JSON-LD.  \n",
    "\n",
    "One caveat, though. Our Turtle declares namespaces at the head of the document for all the vocabularies used in the data. JSON-LD will also need that, which it contains within the `context` field. rdflib-jsonld provides guidance on that. Following that we can make the context:"
   ]
  },
  {
   "cell_type": "code",
   "execution_count": 71,
   "metadata": {
    "collapsed": true
   },
   "outputs": [],
   "source": [
    "context = {\"mads\": \"http://www.loc.gov/mads/rdf/v1#\", \"damsid\": \"http://library.ucsd.edu/ark:/20775/\", \"owl\": \"http://www.w3.org/2002/07/owl#\", \"rdf\": \"http://www.w3.org/1999/02/22-rdf-syntax-ns#\", \"dams\": \"http://library.ucsd.edu/ontology/dams#\"}"
   ]
  },
  {
   "cell_type": "markdown",
   "metadata": {},
   "source": [
    "So now we can serialize the data as JSON-LD, by adding the context variable as a parameter:"
   ]
  },
  {
   "cell_type": "code",
   "execution_count": 72,
   "metadata": {
    "collapsed": false
   },
   "outputs": [
    {
     "name": "stdout",
     "output_type": "stream",
     "text": [
      "b'{\\n    \"@context\": {\\n        \"dams\": \"http://library.ucsd.edu/ontology/dams#\",\\n        \"damsid\": \"http://library.ucsd.edu/ark:/20775/\",\\n        \"mads\": \"http://www.loc.gov/mads/rdf/v1#\",\\n        \"owl\": \"http://www.w3.org/2002/07/owl#\",\\n        \"rdf\": \"http://www.w3.org/1999/02/22-rdf-syntax-ns#\"\\n    },\\n    \"@graph\": [\\n        {\\n            \"@id\": \"_:ub12bL7C40\",\\n            \"@type\": \"dams:Copyright\",\\n            \"dams:copyrightJurisdiction\": \"US\",\\n            \"dams:copyrightNote\": \"Constraint(s) on Use: This work is protected by the U.S. Copyright Law (Title 17, U.S.C.). Use of this work beyond that allowed by \\\\\"fair use\\\\\" requires written permission of the UC Regents. Responsibility for obtaining permissions and any use and distribution of this work rests exclusively with the user and not the UC San Diego Library. Inquiries can be made to the UC San Diego Library program having custody of the work.\",\\n            \"dams:copyrightPurposeNote\": \"Use: This work is available from the UC San Diego Library. This digital copy of the work is intended to support research, teaching, and private study.\",\\n            \"dams:copyrightStatus\": \"Under copyright\"\\n        },\\n        {\\n            \"@id\": \"_:ub12bL49C40\",\\n            \"@type\": \"dams:RelatedResource\",\\n            \"dams:description\": \"Finding fish with sound at Cabo Pulmo National Park\",\\n            \"dams:type\": \"related\",\\n            \"dams:uri\": {\\n                \"@id\": \"http://datamares.ucsd.edu/eng/projects/promonitor/finding-fish-with-sound-at-cabo-pulmo-national-park/\"\\n            }\\n        },\\n        {\\n            \"@id\": \"_:ub12bL36C40\",\\n            \"@type\": \"dams:Note\",\\n            \"dams:type\": \"scope and content\",\\n            \"rdf:value\": \"The data described here have been embargoed until 2016-11-30. Inquiries should be directed to Jack Egerton (osp23e@bangor.ac.uk)\"\\n        },\\n        {\\n            \"@id\": \"damsid:bd1176351d\",\\n            \"@type\": \"dams:Object\",\\n            \"dams:copyright\": {\\n                \"@id\": \"_:ub12bL7C40\"\\n            },\\n            \"dams:date\": {\\n                \"@id\": \"_:ub12bL13C40\"\\n            },\\n            \"dams:event\": {\\n                \"@id\": \"damsid:bd7285620z\"\\n            },\\n            \"dams:geographic\": {\\n                \"@id\": \"damsid:bd0664401n\"\\n            },\\n            \"dams:language\": [\\n                {\\n                    \"@id\": \"damsid:bb87044465\"\\n                },\\n                {\\n                    \"@id\": \"damsid:bb06839335\"\\n                }\\n            ],\\n            \"dams:note\": [\\n                {\\n                    \"@id\": \"_:ub12bL27C40\"\\n                },\\n                {\\n                    \"@id\": \"_:ub12bL23C40\"\\n                },\\n                {\\n                    \"@id\": \"_:ub12bL40C40\"\\n                },\\n                {\\n                    \"@id\": \"_:ub12bL36C40\"\\n                },\\n                {\\n                    \"@id\": \"_:ub12bL44C40\"\\n                },\\n                {\\n                    \"@id\": \"_:ub12bL32C40\"\\n                }\\n            ],\\n            \"dams:provenanceCollectionPart\": {\\n                \"@id\": \"damsid:bd9606463x\"\\n            },\\n            \"dams:relatedResource\": {\\n                \"@id\": \"_:ub12bL49C40\"\\n            },\\n            \"dams:relationship\": [\\n                {\\n                    \"@id\": \"_:ub12bL54C40\"\\n                },\\n                {\\n                    \"@id\": \"_:ub12bL58C40\"\\n                },\\n                {\\n                    \"@id\": \"_:ub12bL62C40\"\\n                }\\n            ],\\n            \"dams:rightsHolderCorporate\": {\\n                \"@id\": \"_:ub12bL66C40\"\\n            },\\n            \"dams:title\": {\\n                \"@id\": \"_:ub12bL72C40\"\\n            },\\n            \"dams:unit\": {\\n                \"@id\": \"damsid:bb6827300d\"\\n            }\\n        },\\n        {\\n            \"@id\": \"_:ub12bL40C40\",\\n            \"@type\": \"dams:Note\",\\n            \"dams:type\": \"preferred citation\",\\n            \"rdf:value\": \"Egerton, Jack (20##): Acoustic survey of fish in Cabo Pulmo National Park. In dataMares Project: Fisheries. UC San Diego Library Digital Collections.\"\\n        },\\n        {\\n            \"@id\": \"_:ub12bL27C40\",\\n            \"@type\": \"dams:Note\",\\n            \"dams:displayLabel\": \"digital object made available by\",\\n            \"dams:type\": \"local attribution\",\\n            \"rdf:value\": \"Research Data Curation Program, UC San Diego, La Jolla, 92093-0175 (http://libraries.ucsd.edu/services/data-curation/)\"\\n        },\\n        {\\n            \"@id\": \"_:ub12bL54C40\",\\n            \"@type\": \"dams:Relationship\",\\n            \"dams:personalName\": {\\n                \"@id\": \"damsid:bd9879500h\"\\n            },\\n            \"dams:role\": {\\n                \"@id\": \"damsid:bb5086960s\"\\n            }\\n        },\\n        {\\n            \"@id\": \"_:ub12bL66C40\",\\n            \"@type\": \"mads:CorporateName\",\\n            \"mads:authoritativeLabel\": \"UC Regents\",\\n            \"mads:elementList\": {\\n                \"@list\": [\\n                    {\\n                        \"@id\": \"_:ub12bL68C69\"\\n                    }\\n                ]\\n            }\\n        },\\n        {\\n            \"@id\": \"_:ub12bL58C40\",\\n            \"@type\": \"dams:Relationship\",\\n            \"dams:personalName\": {\\n                \"@id\": \"damsid:bd9879500h\"\\n            },\\n            \"dams:role\": {\\n                \"@id\": \"damsid:bb1673895k\"\\n            }\\n        },\\n        {\\n            \"@id\": \"_:ub12bL62C40\",\\n            \"@type\": \"dams:Relationship\",\\n            \"dams:corporateName\": {\\n                \"@id\": \"damsid:bb27660034\"\\n            },\\n            \"dams:role\": {\\n                \"@id\": \"damsid:bb3585182w\"\\n            }\\n        },\\n        {\\n            \"@id\": \"_:ub12bL74C69\",\\n            \"@type\": \"mads:MainTitleElement\",\\n            \"mads:elementValue\": \"Acoustic survey of fish in Cabo Pulmo National Park\"\\n        },\\n        {\\n            \"@id\": \"_:ub12bL72C40\",\\n            \"@type\": \"mads:Title\",\\n            \"mads:authoritativeLabel\": \"Acoustic survey of fish in Cabo Pulmo National Park\",\\n            \"mads:elementList\": {\\n                \"@list\": [\\n                    {\\n                        \"@id\": \"_:ub12bL74C69\"\\n                    }\\n                ]\\n            }\\n        },\\n        {\\n            \"@id\": \"_:ub12bL23C40\",\\n            \"@type\": \"dams:Note\",\\n            \"dams:type\": \"description\",\\n            \"rdf:value\": \"Data collected with acoustic transects inside and outside of Cabo Pulmo National Park. The analysis methods allowed us to estimate the number and size of the fish that were surveyed during the field campaign.\"\\n        },\\n        {\\n            \"@id\": \"_:ub12bL13C40\",\\n            \"@type\": \"dams:Date\",\\n            \"dams:beginDate\": \"2015-03-01\",\\n            \"dams:encoding\": \"w3cdtf\",\\n            \"dams:endDate\": \"2015-03-30\",\\n            \"dams:type\": \"collected\",\\n            \"rdf:value\": \"2015-03-01 to 2015-03-30\"\\n        },\\n        {\\n            \"@id\": \"_:ub12bL68C69\",\\n            \"@type\": \"mads:FullNameElement\",\\n            \"mads:elementValue\": \"UC Regents\"\\n        },\\n        {\\n            \"@id\": \"_:ub12bL32C40\",\\n            \"@type\": \"dams:Note\",\\n            \"dams:type\": \"technical details\",\\n            \"rdf:value\": \"Software used: Microsoft Excel and BioSonics acoustic software. Coordinate system: UTM WGS1984.\"\\n        },\\n        {\\n            \"@id\": \"_:ub12bL44C40\",\\n            \"@type\": \"dams:Note\",\\n            \"dams:type\": \"methods\",\\n            \"rdf:value\": \"Acoustic survey\"\\n        }\\n    ]\\n}'\n"
     ]
    }
   ],
   "source": [
    "jason = print ( g.serialize(format='json-ld', context=context, indent=4) )"
   ]
  },
  {
   "cell_type": "code",
   "execution_count": 73,
   "metadata": {
    "collapsed": false
   },
   "outputs": [
    {
     "ename": "SyntaxError",
     "evalue": "invalid syntax (<ipython-input-73-5ddacf6520ce>, line 1)",
     "output_type": "error",
     "traceback": [
      "\u001b[1;36m  File \u001b[1;32m\"<ipython-input-73-5ddacf6520ce>\"\u001b[1;36m, line \u001b[1;32m1\u001b[0m\n\u001b[1;33m    json.loads(str.[jason])\u001b[0m\n\u001b[1;37m                   ^\u001b[0m\n\u001b[1;31mSyntaxError\u001b[0m\u001b[1;31m:\u001b[0m invalid syntax\n"
     ]
    }
   ],
   "source": [
    "json.loads(str.[jason])"
   ]
  },
  {
   "cell_type": "markdown",
   "metadata": {},
   "source": [
    "## Interpreting and transforming the data\n",
    "\n",
    "That's kind of ugly with all the newline characters. We could work within python for other solutions, but we don't have to. We can export the above data as JSON using the rdflib command-line tool. For reference, I ran the following:  \n",
    "\n",
    "`$ rdfpipe -i turtle -o json-ld datamares.ttl > datamares.json`\n",
    "\n",
    "The cool thing about having data in JSON-LD format is that it is still JSON. This means we can use the many tools that developers use on JSON data. One such tool is `jq`, which can query and transform JSON pretty easily. Let's load the exported json file from above:"
   ]
  },
  {
   "cell_type": "code",
   "execution_count": null,
   "metadata": {
    "collapsed": false
   },
   "outputs": [],
   "source": [
    "DATA=\"datamares.json\""
   ]
  },
  {
   "cell_type": "markdown",
   "metadata": {},
   "source": [
    "Now we can take a look at everything with the `.` operator from `jq`:"
   ]
  },
  {
   "cell_type": "code",
   "execution_count": null,
   "metadata": {
    "collapsed": false
   },
   "outputs": [],
   "source": [
    "!cat $DATA | jq '.'"
   ]
  }
 ],
 "metadata": {
  "anaconda-cloud": {},
  "kernelspec": {
   "display_name": "Python [Root]",
   "language": "python",
   "name": "Python [Root]"
  },
  "language_info": {
   "codemirror_mode": {
    "name": "ipython",
    "version": 3
   },
   "file_extension": ".py",
   "mimetype": "text/x-python",
   "name": "python",
   "nbconvert_exporter": "python",
   "pygments_lexer": "ipython3",
   "version": "3.5.2"
  }
 },
 "nbformat": 4,
 "nbformat_minor": 0
}
